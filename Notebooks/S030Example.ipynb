{
 "cells": [
  {
   "cell_type": "code",
   "execution_count": 4,
   "metadata": {},
   "outputs": [
    {
     "name": "stdout",
     "output_type": "stream",
     "text": [
      "Enter Something 1 2 3\n",
      "[1, 2, 3]\n",
      "<class 'list'>\n"
     ]
    }
   ],
   "source": [
    "s = input(\"Enter Something \")\n",
    "nums = [int(n) for  n in s.split() ]\n",
    "\n",
    "print(nums)\n",
    "print(type(nums))"
   ]
  },
  {
   "cell_type": "code",
   "execution_count": 5,
   "metadata": {},
   "outputs": [
    {
     "name": "stdout",
     "output_type": "stream",
     "text": [
      "Enter Something 1 2 3\n",
      "<generator object <genexpr> at 0x0000020BE95BAAC8>\n",
      "<class 'generator'>\n",
      "(1, 2, 3)\n"
     ]
    }
   ],
   "source": [
    "s = input(\"Enter Something \")\n",
    "nums = (int(n) for  n in s.split())\n",
    "\n",
    "print(nums)\n",
    "print(type(nums))\n",
    "print(tuple(nums))"
   ]
  },
  {
   "cell_type": "code",
   "execution_count": 6,
   "metadata": {},
   "outputs": [
    {
     "name": "stdout",
     "output_type": "stream",
     "text": [
      "range(0, 4)\n",
      "(0, 1, 2, 3)\n"
     ]
    }
   ],
   "source": [
    "r = range(4)\n",
    "print(r)\n",
    "print(tuple(r))"
   ]
  },
  {
   "cell_type": "code",
   "execution_count": null,
   "metadata": {},
   "outputs": [],
   "source": [
    "[] => list, indexing, slicing, list comprehension\n",
    "() => funct call, tuple, generator-comprehension\n",
    "{} => dict, dict-comprehension"
   ]
  },
  {
   "cell_type": "code",
   "execution_count": null,
   "metadata": {},
   "outputs": [],
   "source": []
  }
 ],
 "metadata": {
  "kernelspec": {
   "display_name": "Python 3",
   "language": "python",
   "name": "python3"
  },
  "language_info": {
   "codemirror_mode": {
    "name": "ipython",
    "version": 3
   },
   "file_extension": ".py",
   "mimetype": "text/x-python",
   "name": "python",
   "nbconvert_exporter": "python",
   "pygments_lexer": "ipython3",
   "version": "3.7.4"
  }
 },
 "nbformat": 4,
 "nbformat_minor": 2
}
