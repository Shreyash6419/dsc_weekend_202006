{
 "cells": [
  {
   "cell_type": "code",
   "execution_count": 1,
   "metadata": {},
   "outputs": [],
   "source": [
    "# all imports go at the top, even though python is a very open language\n",
    "import pandas as pd\n",
    "import numpy as np"
   ]
  },
  {
   "cell_type": "markdown",
   "metadata": {},
   "source": [
    "## Series"
   ]
  },
  {
   "cell_type": "code",
   "execution_count": 2,
   "metadata": {},
   "outputs": [
    {
     "name": "stdout",
     "output_type": "stream",
     "text": [
      "0    1\n",
      "1    2\n",
      "2    3\n",
      "dtype: int64\n",
      "\n",
      "a    1.0\n",
      "b    2.0\n",
      "c    3.0\n",
      "d    NaN\n",
      "dtype: float64\n"
     ]
    }
   ],
   "source": [
    "# Normal series and series with custom index\n",
    "s1 = pd.Series([1,2,3])\n",
    "s2 = pd.Series([1,2,3, np.nan], index=list(\"abcd\"))\n",
    "print(s1)\n",
    "print()\n",
    "print(s2)"
   ]
  },
  {
   "cell_type": "code",
   "execution_count": null,
   "metadata": {},
   "outputs": [],
   "source": [
    "# changing dtype: astype"
   ]
  },
  {
   "cell_type": "code",
   "execution_count": null,
   "metadata": {},
   "outputs": [],
   "source": [
    "# shape, size, dtype, index, values"
   ]
  },
  {
   "cell_type": "code",
   "execution_count": null,
   "metadata": {},
   "outputs": [],
   "source": [
    "# aggregate operations: min, max, unique, sum etc."
   ]
  },
  {
   "cell_type": "code",
   "execution_count": null,
   "metadata": {},
   "outputs": [],
   "source": [
    "# arithmetic operations(new copy) and broadcast like numpy"
   ]
  },
  {
   "cell_type": "code",
   "execution_count": null,
   "metadata": {},
   "outputs": [],
   "source": [
    "# indexing and slicing"
   ]
  },
  {
   "cell_type": "code",
   "execution_count": null,
   "metadata": {},
   "outputs": [],
   "source": [
    "# result of operations as index"
   ]
  },
  {
   "cell_type": "code",
   "execution_count": null,
   "metadata": {},
   "outputs": [],
   "source": [
    "# frequency : value_counts"
   ]
  },
  {
   "cell_type": "markdown",
   "metadata": {},
   "source": [
    "## DataFrame"
   ]
  },
  {
   "cell_type": "code",
   "execution_count": 63,
   "metadata": {},
   "outputs": [
    {
     "name": "stdout",
     "output_type": "stream",
     "text": [
      "        Name  Age  Gender\n",
      "0     Gaurav  0.0     0.0\n",
      "1  Abhishek1  1.0     0.0\n",
      "2    Krishna  2.0     0.0\n",
      "3  Abhishek2  2.0     0.0\n",
      "4   Harshita  1.0     1.0\n",
      "5       Joey  2.0     1.0\n",
      "6     Shweta  3.0     1.0\n",
      "7       na-1  1.0     NaN\n",
      "8       na-2  NaN     0.0\n",
      "9        NaN  2.0     0.0\n",
      "\n",
      "          10   200\n",
      "0      Gaurav    1\n",
      "11   Abhiskek    2\n",
      "2     Krishna    3\n",
      "3   Abhishek2    4\n",
      "Int64Index([10, 200], dtype='int64')\n"
     ]
    }
   ],
   "source": [
    "# dataframe from dict or list of rows\n",
    "df1 = pd.DataFrame(\n",
    "    {\n",
    "        \"Name\":   [\"Gaurav\", \"Abhishek1\", \"Krishna\", \"Abhishek2\", \"Harshita\", \"Joey\", \"Shweta\", \"na-1\" , \"na-2\"  , np.nan],\n",
    "        \"Age\":    [ 0      , 1          , 2        , 2          , 1         , 2     , 3       , 1      ,  np.nan , 2     ],\n",
    "        \"Gender\": [ 0      , 0          , 0        , 0          , 1         , 1     , 1       , np.nan ,  0      , 0     ]\n",
    "    }\n",
    ")\n",
    "df2 = pd.DataFrame([(\"Gaurav\",1), (\"Abhiskek\",2), (\"Krishna\",3), (\"Abhishek2\",4)],\n",
    "                    index=[0,11,2,3], \n",
    "                    columns=[10, 200])\n",
    "print(df1)\n",
    "print()\n",
    "print(df2)\n",
    "print(df2.columns)"
   ]
  },
  {
   "cell_type": "code",
   "execution_count": 15,
   "metadata": {},
   "outputs": [
    {
     "name": "stdout",
     "output_type": "stream",
     "text": [
      "(10, 3)\n",
      "30\n",
      "\n",
      "Name       object\n",
      "Age       float64\n",
      "Gender    float64\n",
      "dtype: object <class 'pandas.core.series.Series'>\n",
      "\n",
      "RangeIndex(start=0, stop=10, step=1)\n",
      "\n",
      "Index(['Name', 'Age', 'Gender'], dtype='object')\n",
      "\n",
      "             0          1        2          3         4     5       6     7  \\\n",
      "Name    Gaurav  Abhishek1  Krishna  Abhishek2  Harshita  Joey  Shweta  na-1   \n",
      "Age          0          1        2          2         1     2       3     1   \n",
      "Gender       0          0        0          0         1     1       1   NaN   \n",
      "\n",
      "           8    9  \n",
      "Name    na-2  NaN  \n",
      "Age      NaN    2  \n",
      "Gender     0    0  \n"
     ]
    }
   ],
   "source": [
    "# shape, size, dtype, index, columns, unique, T\n",
    "print(df1.shape)\n",
    "print(df1.size)\n",
    "\n",
    "print()\n",
    "print(df1.dtypes, type(df1.dtypes))\n",
    "\n",
    "print()\n",
    "print(df1.index)\n",
    "\n",
    "print()\n",
    "print(df1.columns)\n",
    "#print(df1.unique)\n",
    "\n",
    "print()\n",
    "print(df1.T)"
   ]
  },
  {
   "cell_type": "code",
   "execution_count": 66,
   "metadata": {},
   "outputs": [
    {
     "name": "stdout",
     "output_type": "stream",
     "text": [
      "           N    A  Gender\n",
      "0     Gaurav  0.0     0.0\n",
      "1  Abhishek1  1.0     0.0\n",
      "\n",
      "           N    A  Gender\n",
      "0     Gaurav  0.0     0.0\n",
      "1  Abhishek1  1.0     0.0\n",
      "\n",
      "\n",
      "None\n",
      "\n",
      "           N    A  Gender\n",
      "0     Gaurav  0.0     0.0\n",
      "1  Abhishek1  1.0     0.0\n",
      "2    Krishna  2.0     0.0\n",
      "3  Abhishek2  2.0     0.0\n",
      "4   Harshita  1.0     1.0\n",
      "5       Joey  2.0     1.0\n",
      "6     Shweta  3.0     1.0\n",
      "7       na-1  1.0     NaN\n",
      "8       na-2  NaN     0.0\n",
      "9        NaN  2.0     0.0\n",
      "           1    1    6\n",
      "0     Gaurav  0.0  0.0\n",
      "1  Abhishek1  1.0  0.0\n",
      "2    Krishna  2.0  0.0\n",
      "3  Abhishek2  2.0  0.0\n",
      "4   Harshita  1.0  1.0\n",
      "5       Joey  2.0  1.0\n",
      "6     Shweta  3.0  1.0\n",
      "7       na-1  1.0  NaN\n",
      "8       na-2  NaN  0.0\n",
      "9        NaN  2.0  0.0\n",
      "            N    A  Gender\n",
      "0      Gaurav  0.0     0.0\n",
      "10  Abhishek1  1.0     0.0\n",
      "20    Krishna  2.0     0.0\n",
      "30  Abhishek2  2.0     0.0\n",
      "40   Harshita  1.0     1.0\n",
      "50       Joey  2.0     1.0\n",
      "60     Shweta  3.0     1.0\n",
      "70       na-1  1.0     NaN\n",
      "80       na-2  NaN     0.0\n",
      "90        NaN  2.0     0.0\n"
     ]
    }
   ],
   "source": [
    "# Rename index and columns on df2.\n",
    "# Inplace vs normal operation\n",
    "t = df1.rename({\"Name\":  \"N\", \"Age\": \"A\"}, axis = 1)\n",
    "print(t.head(2))\n",
    "print()\n",
    "print(df1.head(2))\n",
    "print();print()\n",
    "\n",
    "t = df1.rename({\"Name\":  \"N\", \"Age\": \"A\"}, axis = 1, inplace=True)\n",
    "print(t)\n",
    "print()\n",
    "print(df1)\n",
    "\n",
    "t = df1.rename(lambda x: len(x), axis = 1) # col\n",
    "print(t)\n",
    "\n",
    "t = df1.rename(lambda x: x*10, axis =0) # row wise\n",
    "print(t)\n"
   ]
  },
  {
   "cell_type": "code",
   "execution_count": 48,
   "metadata": {},
   "outputs": [
    {
     "name": "stdout",
     "output_type": "stream",
     "text": [
      "0    0.0\n",
      "1    1.0\n",
      "2    2.0\n",
      "3    2.0\n",
      "4    1.0\n",
      "5    2.0\n",
      "6    3.0\n",
      "7    1.0\n",
      "8    NaN\n",
      "9    2.0\n",
      "Name: Age, dtype: float64\n"
     ]
    }
   ],
   "source": [
    "# Indexing columns directly and via index. \n",
    "print(df1[\"Age\"])"
   ]
  },
  {
   "cell_type": "code",
   "execution_count": 46,
   "metadata": {},
   "outputs": [
    {
     "name": "stdout",
     "output_type": "stream",
     "text": [
      "0       Gaurav\n",
      "1    Abhishek1\n",
      "2      Krishna\n",
      "3    Abhishek2\n",
      "4     Harshita\n",
      "5         Joey\n",
      "6       Shweta\n",
      "7         na-1\n",
      "8         na-2\n",
      "9          NaN\n",
      "Name: Name, dtype: object\n",
      "\n",
      "<class 'pandas.core.series.Series'>\n"
     ]
    }
   ],
   "source": [
    "# Series in a DataFrame\n",
    "print(df1.Name)\n",
    "print()\n",
    "print(type(df1.Name))"
   ]
  },
  {
   "cell_type": "code",
   "execution_count": 37,
   "metadata": {
    "scrolled": true
   },
   "outputs": [
    {
     "name": "stdout",
     "output_type": "stream",
     "text": [
      "        Name       Age    Gender\n",
      "count      9  9.000000  9.000000\n",
      "unique     9       NaN       NaN\n",
      "top     na-2       NaN       NaN\n",
      "freq       1       NaN       NaN\n",
      "mean     NaN  1.555556  0.333333\n",
      "std      NaN  0.881917  0.500000\n",
      "min      NaN  0.000000  0.000000\n",
      "25%      NaN  1.000000  0.000000\n",
      "50%      NaN  2.000000  0.000000\n",
      "75%      NaN  2.000000  1.000000\n",
      "max      NaN  3.000000  1.000000\n",
      "\n",
      "        Name  Age  Gender\n",
      "0     Gaurav  0.0     0.0\n",
      "1  Abhishek1  1.0     0.0\n",
      "2    Krishna  2.0     0.0\n",
      "3  Abhishek2  2.0     0.0\n",
      "4   Harshita  1.0     1.0\n",
      "\n",
      "     Name  Age  Gender\n",
      "5    Joey  2.0     1.0\n",
      "6  Shweta  3.0     1.0\n",
      "7    na-1  1.0     NaN\n",
      "8    na-2  NaN     0.0\n",
      "9     NaN  2.0     0.0\n"
     ]
    }
   ],
   "source": [
    "# describe, top/bottom rows of data\n",
    "print(df1.describe(include = 'all'))\n",
    "print()\n",
    "print(df1.head()) # top few rows\n",
    "print()\n",
    "print(df1.tail()) # top few rows\n"
   ]
  },
  {
   "cell_type": "code",
   "execution_count": 73,
   "metadata": {},
   "outputs": [
    {
     "name": "stdout",
     "output_type": "stream",
     "text": [
      "N         Gaurav\n",
      "A              0\n",
      "Gender         0\n",
      "Name: 0, dtype: object\n",
      "\n",
      "           N    A  Gender\n",
      "0     Gaurav  0.0     0.0\n",
      "1  Abhishek1  1.0     0.0\n",
      "2    Krishna  2.0     0.0\n",
      "3  Abhishek2  2.0     0.0\n",
      "4   Harshita  1.0     1.0\n",
      "5       Joey  2.0     1.0\n"
     ]
    }
   ],
   "source": [
    "# indexing and slicing\n",
    "# loc, iloc [rows, cols]\n",
    "print(df1.loc[0]) # rows  0     Gaurav  0.0     0.0\n",
    "print()\n",
    "print(df1.loc[0:5]) # rows"
   ]
  },
  {
   "cell_type": "code",
   "execution_count": 77,
   "metadata": {},
   "outputs": [
    {
     "name": "stdout",
     "output_type": "stream",
     "text": [
      "0    0.0\n",
      "1    1.0\n",
      "2    2.0\n",
      "3    2.0\n",
      "4    1.0\n",
      "5    2.0\n",
      "6    3.0\n",
      "7    1.0\n",
      "8    NaN\n",
      "9    2.0\n",
      "Name: A, dtype: float64\n",
      "\n",
      "0    0.0\n",
      "1    1.0\n",
      "2    2.0\n",
      "3    2.0\n",
      "4    1.0\n",
      "Name: A, dtype: float64\n",
      "\n",
      "     A\n",
      "0  0.0\n",
      "1  1.0\n",
      "2  2.0\n",
      "3  2.0\n",
      "4  1.0\n"
     ]
    }
   ],
   "source": [
    "print(df1.loc[:     , \"A\"])\n",
    "print()\n",
    "print(df1.loc[:4,\"A\"])\n",
    "print()\n",
    "print(df1.loc[:4,\"A\"::2])"
   ]
  },
  {
   "cell_type": "code",
   "execution_count": 82,
   "metadata": {},
   "outputs": [
    {
     "name": "stdout",
     "output_type": "stream",
     "text": [
      "0       Gaurav\n",
      "1    Abhishek1\n",
      "2      Krishna\n",
      "3    Abhishek2\n",
      "4     Harshita\n",
      "5         Joey\n",
      "6       Shweta\n",
      "7         na-1\n",
      "8         na-2\n",
      "9          NaN\n",
      "Name: N, dtype: object\n",
      "\n",
      "     A  Gender\n",
      "3  2.0     0.0\n",
      "4  1.0     1.0\n",
      "5  2.0     1.0\n",
      "6  3.0     1.0\n",
      "7  1.0     NaN\n"
     ]
    }
   ],
   "source": [
    "print(df1.iloc[:,0])\n",
    "\n",
    "print()\n",
    "print(df1.iloc[3:8,1:])"
   ]
  },
  {
   "cell_type": "code",
   "execution_count": 99,
   "metadata": {},
   "outputs": [
    {
     "name": "stdout",
     "output_type": "stream",
     "text": [
      "A         0.0\n",
      "Gender    0.0\n",
      "dtype: float64\n",
      "\n",
      "A         3.0\n",
      "Gender    1.0\n",
      "dtype: float64\n",
      "\n",
      "0    0.0\n",
      "1    1.0\n",
      "2    2.0\n",
      "3    2.0\n",
      "4    1.0\n",
      "5    2.0\n",
      "6    3.0\n",
      "7    1.0\n",
      "8    0.0\n",
      "9    2.0\n",
      "dtype: float64\n",
      "\n",
      "0    3\n",
      "1    3\n",
      "2    3\n",
      "3    3\n",
      "4    3\n",
      "5    3\n",
      "6    3\n",
      "7    2\n",
      "8    2\n",
      "9    2\n",
      "dtype: int64\n"
     ]
    }
   ],
   "source": [
    "# aggregate operations (with and without axis : row-1, col-0)\n",
    "# min, max, count, ...\n",
    "print(df1.min())\n",
    "print()\n",
    "print(df1.max())\n",
    "print()\n",
    "print(df1.max(axis = 1))\n",
    "print()\n",
    "print(df1.count(axis = 1))"
   ]
  },
  {
   "cell_type": "code",
   "execution_count": 92,
   "metadata": {},
   "outputs": [
    {
     "name": "stdout",
     "output_type": "stream",
     "text": [
      "3.0\n"
     ]
    }
   ],
   "source": [
    "print(df1.A.max())"
   ]
  },
  {
   "cell_type": "code",
   "execution_count": 97,
   "metadata": {},
   "outputs": [
    {
     "name": "stdout",
     "output_type": "stream",
     "text": [
      "                                                   N     A  Gender\n",
      "0  GauravGauravGauravGauravGauravGauravGauravGaur...   0.0     0.0\n",
      "1  Abhishek1Abhishek1Abhishek1Abhishek1Abhishek1A...  10.0     0.0\n",
      "2  KrishnaKrishnaKrishnaKrishnaKrishnaKrishnaKris...  20.0     0.0\n",
      "3  Abhishek2Abhishek2Abhishek2Abhishek2Abhishek2A...  20.0     0.0\n",
      "4  HarshitaHarshitaHarshitaHarshitaHarshitaHarshi...  10.0    10.0\n",
      "5           JoeyJoeyJoeyJoeyJoeyJoeyJoeyJoeyJoeyJoey  20.0    10.0\n",
      "6  ShwetaShwetaShwetaShwetaShwetaShwetaShwetaShwe...  30.0    10.0\n",
      "7           na-1na-1na-1na-1na-1na-1na-1na-1na-1na-1  10.0     NaN\n",
      "8           na-2na-2na-2na-2na-2na-2na-2na-2na-2na-2   NaN     0.0\n",
      "9                                                NaN  20.0     0.0\n",
      "0    False\n",
      "1    False\n",
      "2    False\n",
      "3    False\n",
      "4    False\n",
      "5    False\n",
      "6    False\n",
      "7    False\n",
      "8    False\n",
      "9    False\n",
      "Name: A, dtype: bool\n"
     ]
    }
   ],
   "source": [
    "# arithmetic operations\n",
    "print(df1*10)\n",
    "# print(df1+10)\n",
    "\n",
    "print(df1.A == 9)"
   ]
  },
  {
   "cell_type": "code",
   "execution_count": 102,
   "metadata": {},
   "outputs": [
    {
     "name": "stdout",
     "output_type": "stream",
     "text": [
      "       N      A  Gender\n",
      "0  False  False   False\n",
      "1  False  False   False\n",
      "2  False  False   False\n",
      "3  False  False   False\n",
      "4  False  False   False\n",
      "5  False  False   False\n",
      "6  False  False   False\n",
      "7  False  False    True\n",
      "8  False   True   False\n",
      "9   True  False   False\n",
      "\n",
      "N         1\n",
      "A         1\n",
      "Gender    1\n",
      "dtype: int64\n"
     ]
    }
   ],
   "source": [
    "# Na Values: isna, fillna, dropna\n",
    "print(df1.isna())\n",
    "print()\n",
    "print(df1.isna().sum())"
   ]
  },
  {
   "cell_type": "code",
   "execution_count": 110,
   "metadata": {},
   "outputs": [
    {
     "name": "stdout",
     "output_type": "stream",
     "text": [
      "N         True\n",
      "A         True\n",
      "Gender    True\n",
      "dtype: bool\n",
      "\n",
      "0    False\n",
      "1    False\n",
      "2    False\n",
      "3    False\n",
      "4    False\n",
      "5    False\n",
      "6    False\n",
      "7     True\n",
      "8     True\n",
      "9     True\n",
      "dtype: bool\n"
     ]
    }
   ],
   "source": [
    "# any, all\n",
    "print(df1.isna().any())\n",
    "print()\n",
    "print(df1.isna().any( axis=1))"
   ]
  },
  {
   "cell_type": "code",
   "execution_count": 132,
   "metadata": {},
   "outputs": [
    {
     "name": "stdout",
     "output_type": "stream",
     "text": [
      "(array([4], dtype=int64),)\n",
      "\n",
      "0    0.0\n",
      "1    1.0\n",
      "2    2.0\n",
      "3    2.0\n",
      "4    1.0\n",
      "5    2.0\n",
      "6    3.0\n",
      "7    1.0\n",
      "8    NaN\n",
      "9    2.0\n",
      "Name: A, dtype: float64\n"
     ]
    }
   ],
   "source": [
    "print(np.where(df1.N == \"Harshita\"))\n",
    "print()\n",
    "print(df1.get(\"A\"))"
   ]
  },
  {
   "cell_type": "code",
   "execution_count": 126,
   "metadata": {},
   "outputs": [
    {
     "name": "stdout",
     "output_type": "stream",
     "text": [
      "           N    A  Gender\n",
      "0     Gaurav  0.0     0.0\n",
      "1  Abhishek1  1.0     0.0\n",
      "4   Harshita  1.0     1.0\n",
      "7       na-1  1.0     NaN\n",
      "2    Krishna  2.0     0.0\n",
      "3  Abhishek2  2.0     0.0\n",
      "5       Joey  2.0     1.0\n",
      "9        NaN  2.0     0.0\n",
      "6     Shweta  3.0     1.0\n",
      "8       na-2  NaN     0.0\n",
      "\n",
      "           N    A  Gender\n",
      "6     Shweta  3.0     1.0\n",
      "2    Krishna  2.0     0.0\n",
      "5       Joey  2.0     1.0\n",
      "3  Abhishek2  2.0     0.0\n",
      "9        NaN  2.0     0.0\n",
      "7       na-1  1.0     NaN\n",
      "4   Harshita  1.0     1.0\n",
      "1  Abhishek1  1.0     0.0\n",
      "0     Gaurav  0.0     0.0\n",
      "8       na-2  NaN     0.0\n"
     ]
    }
   ],
   "source": [
    "# ordering data, sort_values\n",
    "t = df1.sort_values(by=['A'])\n",
    "print(t)\n",
    "\n",
    "print()\n",
    "t = df1.sort_values(by=['A', 'N'], ascending=False)\n",
    "print(t)"
   ]
  },
  {
   "cell_type": "code",
   "execution_count": null,
   "metadata": {},
   "outputs": [],
   "source": [
    "# row / column wise operation: apply\n",
    "tmp = pd.DataFrame(np.random.randint(10,20,20).reshape(5,4))"
   ]
  },
  {
   "cell_type": "code",
   "execution_count": null,
   "metadata": {},
   "outputs": [],
   "source": [
    "# str submodule (replace etc)"
   ]
  },
  {
   "cell_type": "code",
   "execution_count": 117,
   "metadata": {},
   "outputs": [],
   "source": [
    "# load and save data\n",
    "df1.to_csv('new_data.csv')"
   ]
  },
  {
   "cell_type": "code",
   "execution_count": null,
   "metadata": {},
   "outputs": [],
   "source": [
    "# groups: groupby"
   ]
  },
  {
   "cell_type": "code",
   "execution_count": null,
   "metadata": {},
   "outputs": [],
   "source": [
    "# groups and aggregates"
   ]
  },
  {
   "cell_type": "code",
   "execution_count": 122,
   "metadata": {},
   "outputs": [
    {
     "name": "stdout",
     "output_type": "stream",
     "text": [
      "wowo\n"
     ]
    },
    {
     "ename": "IndexError",
     "evalue": "list index out of range",
     "output_type": "error",
     "traceback": [
      "\u001b[1;31m---------------------------------------------------------------------------\u001b[0m",
      "\u001b[1;31mIndexError\u001b[0m                                Traceback (most recent call last)",
      "\u001b[1;32m<ipython-input-122-08e56670dec9>\u001b[0m in \u001b[0;36m<module>\u001b[1;34m\u001b[0m\n\u001b[0;32m      3\u001b[0m \u001b[0ma\u001b[0m\u001b[1;33m[\u001b[0m\u001b[1;36m0\u001b[0m\u001b[1;33m]\u001b[0m\u001b[1;33m\u001b[0m\u001b[1;33m\u001b[0m\u001b[0m\n\u001b[0;32m      4\u001b[0m \u001b[0mprint\u001b[0m\u001b[1;33m(\u001b[0m\u001b[1;34m\"wowo\"\u001b[0m\u001b[1;33m)\u001b[0m\u001b[1;33m\u001b[0m\u001b[1;33m\u001b[0m\u001b[0m\n\u001b[1;32m----> 5\u001b[1;33m \u001b[0ma\u001b[0m\u001b[1;33m[\u001b[0m\u001b[1;36m10\u001b[0m\u001b[1;33m]\u001b[0m \u001b[1;31m# exception\u001b[0m\u001b[1;33m\u001b[0m\u001b[1;33m\u001b[0m\u001b[0m\n\u001b[0m\u001b[0;32m      6\u001b[0m \u001b[0mprint\u001b[0m\u001b[1;33m(\u001b[0m\u001b[1;34m\"owow\"\u001b[0m\u001b[1;33m)\u001b[0m\u001b[1;33m\u001b[0m\u001b[1;33m\u001b[0m\u001b[0m\n",
      "\u001b[1;31mIndexError\u001b[0m: list index out of range"
     ]
    }
   ],
   "source": [
    "a = [1,2,3,4]\n",
    "\n",
    "a[0]\n",
    "print(\"wowo\")\n",
    "a[10] # exception\n",
    "print(\"owow\")"
   ]
  }
 ],
 "metadata": {
  "kernelspec": {
   "display_name": "Python 3",
   "language": "python",
   "name": "python3"
  },
  "language_info": {
   "codemirror_mode": {
    "name": "ipython",
    "version": 3
   },
   "file_extension": ".py",
   "mimetype": "text/x-python",
   "name": "python",
   "nbconvert_exporter": "python",
   "pygments_lexer": "ipython3",
   "version": "3.7.4"
  }
 },
 "nbformat": 4,
 "nbformat_minor": 2
}
