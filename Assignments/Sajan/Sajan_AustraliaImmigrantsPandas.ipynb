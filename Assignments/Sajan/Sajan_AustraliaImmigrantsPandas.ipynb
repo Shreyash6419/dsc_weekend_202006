{
 "cells": [
  {
   "cell_type": "markdown",
   "metadata": {},
   "source": [
    "- Read sheet \"Australia by Residence\" from Australia.xlsx\n",
    "- Ignore the first 20 rows.\n",
    "- List all Column and Row indexes(Print their names)\n",
    "\n",
    "Dataset Analysis\n",
    "- Describe the dataset\n",
    "- Use values and index attributes on both Row and Column Indexes\n",
    "- Check Shape, Datatypes and other attributes and observe the datatype of each columns' data\n",
    "  \n",
    "\n",
    "Drop\n",
    "- Delete all Data where the Type = \"Emigrants\" or Type is not \"Immigrants\" (Row Deletion)\n",
    "- Find columns for which more than 50% data is missing and drop them (Column Deletion)\n",
    "- Drop Unnessary Columns: Type, Coverage, Area, Reg, Dev (Column deletion)\n",
    "    Your columns should now look like \"OdName,AreaName,RegName,DevName,1980 ... 2008\"\n",
    "\n",
    "Rename\n",
    "- Rename columns :OdName -> Country; RegName -> Region\n",
    "- Convert Column Names with Int type to Strings to avoid index errors with string indexing \"1980, 1981 etc.\" => \" '1980', '1981' ... \" (Use rename)\n",
    "- Find Total number of immigrants for all years, and create a new column Total in data Frame\n",
    "\n",
    "Head Tail Sort\n",
    "- Sort Data by the new column Total in descending order and analyze the fist few rows. (get first few rows using head)\n",
    "    - find something weird in the dataset ? Delete that row 'world'\n",
    "- Analyze last few rows also in the sorted result (Don't sort inplace)\n",
    "\n",
    "- Check if these have all unique values or not:\n",
    "    - countries\n",
    "    - continents (AreaName)\n",
    "    - country continent pairs\n",
    "\n",
    "\n",
    "- Find countries for which no of immigrants for all years is 0\n",
    "- Find count of above countries\n",
    "- Find countries for which no of immigrants is 0 for any year\n",
    "\n",
    "Save Data\n",
    "- Drop the row where AreaName is 'World'\n",
    "- Save the dataset to a new file AustraliaFiltered.xlsx"
   ]
  },
  {
   "cell_type": "code",
   "execution_count": 1,
   "metadata": {},
   "outputs": [],
   "source": [
    "import pandas as pd"
   ]
  },
  {
   "cell_type": "code",
   "execution_count": 4,
   "metadata": {},
   "outputs": [
    {
     "name": "stdout",
     "output_type": "stream",
     "text": [
      "             Unnamed: 0 Unnamed: 1     Unnamed: 2  Unnamed: 3 Unnamed: 4  \\\n",
      "0                   NaN        NaN            NaN         NaN        NaN   \n",
      "1                   NaN        NaN            NaN         NaN        NaN   \n",
      "2                   NaN        NaN            NaN         NaN        NaN   \n",
      "3        United Nations        NaN            NaN         NaN        NaN   \n",
      "4   Population Division        NaN            NaN         NaN        NaN   \n",
      "..                  ...        ...            ...         ...        ...   \n",
      "71           Immigrants       Both        Oceania   Melanesia       7390   \n",
      "72           Immigrants       Both        Oceania  Micronesia        120   \n",
      "73           Immigrants       Both        Oceania   Polynesia        370   \n",
      "74           Immigrants       Both  Oceania Total         NaN      42530   \n",
      "75           Immigrants       Both        Unknown     Unknown       4060   \n",
      "\n",
      "   Unnamed: 5 Unnamed: 6 Unnamed: 7 Unnamed: 8 Unnamed: 9  ... Unnamed: 28  \\\n",
      "0         NaN        NaN        NaN        NaN        NaN  ...         NaN   \n",
      "1         NaN        NaN        NaN        NaN        NaN  ...         NaN   \n",
      "2         NaN        NaN        NaN        NaN        NaN  ...         NaN   \n",
      "3         NaN        NaN        NaN        NaN        NaN  ...         NaN   \n",
      "4         NaN        NaN        NaN        NaN        NaN  ...         NaN   \n",
      "..        ...        ...        ...        ...        ...  ...         ...   \n",
      "71       8030       8090       7020       6790       6790  ...      5910.0   \n",
      "72        140        110        100        120        100  ...       400.0   \n",
      "73        530        580        440        550        600  ...      1080.0   \n",
      "74      43320      32870      21330      24480      34710  ...     48690.0   \n",
      "75       4440       4010       3220       3970       4610  ...      1650.0   \n",
      "\n",
      "   Unnamed: 29 Unnamed: 30 Unnamed: 31 Unnamed: 32 Unnamed: 33 Unnamed: 34  \\\n",
      "0          NaN         NaN         NaN         NaN         NaN         NaN   \n",
      "1          NaN         NaN         NaN         NaN         NaN         NaN   \n",
      "2          NaN         NaN         NaN         NaN         NaN         NaN   \n",
      "3          NaN         NaN         NaN         NaN         NaN         NaN   \n",
      "4          NaN         NaN         NaN         NaN         NaN         NaN   \n",
      "..         ...         ...         ...         ...         ...         ...   \n",
      "71      5610.0      7230.0      5910.0      6990.0          ..          ..   \n",
      "72       320.0       290.0       260.0       450.0          ..          ..   \n",
      "73       940.0      1120.0      1040.0      1450.0          ..          ..   \n",
      "74     52250.0     54330.0     46550.0     56630.0          ..          ..   \n",
      "75      1800.0      2320.0     18310.0      4970.0          ..          ..   \n",
      "\n",
      "   Unnamed: 35  Unnamed: 36  Unnamed: 37  \n",
      "0          NaN          NaN          NaN  \n",
      "1          NaN          NaN          NaN  \n",
      "2          NaN          NaN          NaN  \n",
      "3          NaN          NaN          NaN  \n",
      "4          NaN          NaN          NaN  \n",
      "..         ...          ...          ...  \n",
      "71          ..           ..          NaN  \n",
      "72          ..           ..          NaN  \n",
      "73          ..           ..          NaN  \n",
      "74          ..           ..          NaN  \n",
      "75          ..           ..          NaN  \n",
      "\n",
      "[76 rows x 38 columns]\n"
     ]
    }
   ],
   "source": [
    "df =pd.read_excel('Australia.xlsx')\n",
    "print(df)"
   ]
  }
 ],
 "metadata": {
  "kernelspec": {
   "display_name": "Python 3",
   "language": "python",
   "name": "python3"
  },
  "language_info": {
   "codemirror_mode": {
    "name": "ipython",
    "version": 3
   },
   "file_extension": ".py",
   "mimetype": "text/x-python",
   "name": "python",
   "nbconvert_exporter": "python",
   "pygments_lexer": "ipython3",
   "version": "3.7.6"
  }
 },
 "nbformat": 4,
 "nbformat_minor": 2
}
